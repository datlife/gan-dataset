{
 "cells": [
  {
   "cell_type": "markdown",
   "metadata": {},
   "source": [
    "# VIRAT Clip Generator"
   ]
  },
  {
   "cell_type": "markdown",
   "metadata": {},
   "source": [
    "## Proccess Object Annotation File \n",
    "File format: `*viratdata.objects.txt`\n",
    "\n",
    "|Column| Type |Comment|\n",
    "|---|:------|:--------|\n",
    "|1| Object id|a unique identifier of an object track. Unique within a file.|\n",
    "|2| Object duration | duration of the object track|\n",
    "|3| Currnet frame|corresponding frame number|\n",
    "|4| bbox lefttop x|horizontal x coordinate of the left top of bbox, origin is lefttop of the frame|\n",
    "|5| bbox lefttop y|vertical y coordinate of the left top of bbox, origin is lefttop of the frame|\n",
    "|6| bbox width|horizontal width of the bbox|\n",
    "|7| bbox height|vertical height of the bbox|\n",
    "|8| Object Type|object type|\n",
    "\n",
    "Object Type ID (for column 8 above for object files)\n",
    "\n",
    "ID | Type|\n",
    "---|:----|\n",
    "1| person\n",
    "2| car              (usually passenger vehicles such as sedan, truck)\n",
    "3| vehicles         (vehicles other than usual passenger cars. Examples include construction vehicles)\n",
    "4| object           (neither car or person, usually carried objects)\n",
    "5| bike, bicylces   (may include engine-powered auto-bikes)"
   ]
  },
  {
   "cell_type": "code",
   "execution_count": 1,
   "metadata": {},
   "outputs": [
    {
     "name": "stdout",
     "output_type": "stream",
     "text": [
      "3.3.1\n"
     ]
    }
   ],
   "source": [
    "import os\n",
    "import cv2\n",
    "import numpy as np\n",
    "import pandas as pd\n",
    "\n",
    "from write_html import writeHTML\n",
    "from utils.virat_utils import cut_off_frame, generate_focused_area_mask, generate_object_trajectory, Color\n",
    "\n",
    "print(cv2.__version__)"
   ]
  },
  {
   "cell_type": "code",
   "execution_count": 28,
   "metadata": {},
   "outputs": [],
   "source": [
    "## PARAMTERS\n",
    "CHUNK = 70\n",
    "OFFSET = 150\n",
    "OUTPUT_DIR             = './outputs'\n",
    "EXAMPLE                = 'VIRAT_S_000207_00_000000_000045'\n",
    "DEFAULT_PATH           = '/media/dat/dataset/VIRAT'\n",
    "\n",
    "# Naming Convention for the image output file\n",
    "# {0}: original video file name\n",
    "# {1}: chunk number\n",
    "# {2}: current frame\n",
    "OUTPUT_FORMAT    = '{0}_{1}_{2}.png'\n",
    "\n",
    "SELECTED_OBJECT_TYPE   = [ 2, 3]  # only select car or vehicles\n",
    "object_anno_fields     = ['object_id', 'object_duration', 'current_frame',\n",
    "                          'left_top_x','left_top_y', 'width', 'height', \n",
    "                          'object_type']"
   ]
  },
  {
   "cell_type": "code",
   "execution_count": 29,
   "metadata": {},
   "outputs": [],
   "source": [
    "DEFAULT_ANNOTATION_DIR = os.path.join(DEFAULT_PATH,'annotations')\n",
    "DEFAULT_VIDEO_DIR      = os.path.join(DEFAULT_PATH,'videos_original')\n",
    "\n",
    "anno_path = os.path.join(DEFAULT_ANNOTATION_DIR, EXAMPLE + '.viratdata.objects.txt')\n",
    "df        = pd.read_csv(anno_path, delim_whitespace =True, names=object_anno_fields)\n",
    "\n",
    "# Group each objects appeared in the video by object id\n",
    "separated_objects_by_id = df.groupby('object_id')"
   ]
  },
  {
   "cell_type": "code",
   "execution_count": 30,
   "metadata": {},
   "outputs": [
    {
     "name": "stdout",
     "output_type": "stream",
     "text": [
      "Found car\n",
      "Found car\n",
      "Number of annotated objects in the video 2\n"
     ]
    }
   ],
   "source": [
    "# Generate a list of _boxes for each objects appear in the video\n",
    "object_bboxes = []\n",
    "temp_frames   = []\n",
    "\n",
    "TYPES = ['_', 'person', 'car', 'vehicles','object','bike']\n",
    "for _, obj in separated_objects_by_id:\n",
    "    object_type = obj['object_type'].values[0]\n",
    "    if object_type not in SELECTED_OBJECT_TYPE:\n",
    "        continue\n",
    "        \n",
    "    print(\"Found %s\" % TYPES[object_type])    \n",
    "    # Extract the bounding boxes\n",
    "    upper_left_pts   = zip(obj['left_top_x'].values, obj['left_top_y'].values)\n",
    "    width_height_lst = zip(obj['width'].values,      obj['height'].values)\n",
    "    \n",
    "    lower_right_pts  = [(px + w, py + h) \n",
    "                            for (px, py),(w, h) in zip(upper_left_pts, width_height_lst)]\n",
    "    \n",
    "    bbox_list        = [[(px1, py1), (px2, py2)] \n",
    "                            for px1, py1, (px2, py2) in zip(obj['left_top_x'].values, \n",
    "                                                              obj['left_top_y'].values, \n",
    "                                                              lower_right_pts)]\n",
    "    if bbox_list:\n",
    "        object_bboxes.append(bbox_list)\n",
    "        temp_frames.append(obj)\n",
    "  \n",
    "print(\"Number of annotated objects in the video %s\"%len(object_bboxes))\n",
    "grouped_objects = pd.concat(temp_frames).groupby('object_id')"
   ]
  },
  {
   "cell_type": "code",
   "execution_count": 38,
   "metadata": {},
   "outputs": [
    {
     "name": "stdout",
     "output_type": "stream",
     "text": [
      "210\n",
      "Number of required frames: 210, starting at 0\n"
     ]
    }
   ],
   "source": [
    "# Download FFMEG to display video if not available\n",
    "import random\n",
    "\n",
    "# pick random object in grouped object, which satisfy this condition\n",
    "cut_off_idx = 0\n",
    "max_tries   = 50\n",
    "\n",
    "curr = 0 \n",
    "while curr <= max_tries:\n",
    "    SELECTED_OBJECT =  random.choice(list(grouped_objects.groups)) # ID of object in the video\n",
    "    OBJECT_IDX      = list(grouped_objects.groups).index(SELECTED_OBJECT)\n",
    "    # Get object bounding boxes\n",
    "    bboxes_of_object = object_bboxes[OBJECT_IDX]\n",
    "    \n",
    "    # If object is stationary for a duration (e.g car is parking), filter out\n",
    "    cut_off_idx  = cut_off_frame(bboxes_of_object, duration=CHUNK)\n",
    "    if cut_off_idx is not 0:\n",
    "        print(cut_off_idx)\n",
    "        break\n",
    "    curr +=1 \n",
    "\n",
    "if  cut_off_idx is not 0:\n",
    "    bbox_arr    = np.asarray(bboxes_of_object[:cut_off_idx])\n",
    "    num_chunk   = int(len(bbox_arr) / CHUNK)\n",
    "    bbox_chunks = np.array_split(bbox_arr,num_chunk)\n",
    "else:\n",
    "    raise ValueError(\"All objects in this video are stationary. Please try other videos.\")\n",
    "\n",
    "# In this example, we only show the video when the selected object appears\n",
    "appear_frames = grouped_objects.get_group(SELECTED_OBJECT)['current_frame'].values\n",
    "start_frame   = np.min(appear_frames)\n",
    "end_frame     = start_frame + cut_off_idx\n",
    "\n",
    "print(\"Number of required frames: %s, starting at %s\"% (end_frame - start_frame, start_frame))"
   ]
  },
  {
   "cell_type": "code",
   "execution_count": 39,
   "metadata": {},
   "outputs": [
    {
     "name": "stderr",
     "output_type": "stream",
     "text": [
      "100%|██████████| 3/3 [00:06<00:00,  2.01s/it]"
     ]
    },
    {
     "name": "stdout",
     "output_type": "stream",
     "text": [
      "Done in 6.127075672149658\n"
     ]
    },
    {
     "name": "stderr",
     "output_type": "stream",
     "text": [
      "\n"
     ]
    }
   ],
   "source": [
    "import time\n",
    "from tqdm import tqdm\n",
    "\n",
    "# For each frames, draw all the appear bounding boxes:\n",
    "processed_frames = []\n",
    "prev_frames      = 0\n",
    "captions         = []\n",
    "image_paths      = []\n",
    "\n",
    "OUTPUT_FOLDER = os.path.join(OUTPUT_DIR)\n",
    "if not os.path.isdir(OUTPUT_FOLDER):\n",
    "    os.mkdir(OUTPUT_FOLDER)\n",
    "\n",
    "video_path = os.path.join(DEFAULT_VIDEO_DIR, EXAMPLE+'.mp4')\n",
    "cap = cv2.VideoCapture(video_path)\n",
    "\n",
    "if not cap.isOpened():\n",
    "    raise IOError(\"Please check video path %s\" % video_path)\n",
    "\n",
    "_, frame = cap.read()\n",
    "# Generate a image mask, size of the clip's dimension\n",
    "fps = cap.get(cv2.CAP_PROP_FPS)\n",
    "empty_mask        = np.zeros_like(frame)\n",
    "object_trajectory = generate_object_trajectory(empty_mask, bboxes_of_object, \n",
    "                                               color=Color.green, \n",
    "                                               opacity=60)\n",
    "start = time.time()\n",
    "for i, bbox_chunk in enumerate(tqdm(bbox_chunks)):\n",
    "    prev_frames += len(bbox_chunk)\n",
    "    focused_area_mask, top_pts, bot_pts =  generate_focused_area_mask(empty_mask, \n",
    "                                                    bbox_chunk, \n",
    "                                                    color=Color.yellow, \n",
    "                                                    offset=OFFSET)\n",
    "    \n",
    "    \n",
    "    for idx, (p1, p2) in enumerate(bbox_chunk):\n",
    "        # Format file name\n",
    "        filename   = OUTPUT_FORMAT.format(EXAMPLE, i, idx)\n",
    "        saved_path = os.path.join(OUTPUT_FOLDER, filename)\n",
    "        \n",
    "        # Get current frame from clip\n",
    "        cap.set(cv2.CAP_PROP_POS_FRAMES, start_frame + i*CHUNK + idx)\n",
    "        _, frame = cap.read()\n",
    "        \n",
    "        # convert to RGB\n",
    "        frame = cv2.cvtColor(frame, cv2.COLOR_BGR2RGB)\n",
    "        \n",
    "        # Draw bounding box of the object on current frame\n",
    "        frame = cv2.rectangle(frame, (p1[0], p1[1]), (p2[0], p2[1]), color=Color.green, thickness=4)\n",
    "        \n",
    "        # Add object flow mask to current frame\n",
    "        frame = cv2.addWeighted(frame, 1.0, object_trajectory, 0.5, 0)\n",
    "        \n",
    "        # Crop area\n",
    "        frame = frame[top_pts[1]:bot_pts[1], top_pts[0]:bot_pts[0]]\n",
    "    \n",
    "        # Resize to save disk space\n",
    "        frame = cv2.resize(frame, (480, 320),cv2.INTER_LINEAR)\n",
    "        cv2.imwrite(saved_path, frame)\n",
    "        \n",
    "        # For writing HTMl file\n",
    "        image_paths.append(saved_path)\n",
    "        captions.append(filename)\n",
    "        processed_frames.append(frame)\n",
    "\n",
    "print(\"Done in {}\".format(time.time() - start))\n",
    "cap.release()"
   ]
  },
  {
   "cell_type": "code",
   "execution_count": 40,
   "metadata": {},
   "outputs": [
    {
     "name": "stdout",
     "output_type": "stream",
     "text": [
      "210\n"
     ]
    }
   ],
   "source": [
    "print(len(image_paths))\n",
    "\n",
    "cols = int(len(image_paths)/5)\n",
    "rows = int(len(image_paths)/cols)\n",
    "img_paths = np.reshape(image_paths, ( cols, rows))\n",
    "captions = np.reshape(captions, ( cols, rows))\n",
    "\n",
    "\n",
    "writeHTML('result.html', img_paths, captions)"
   ]
  },
  {
   "cell_type": "code",
   "execution_count": null,
   "metadata": {},
   "outputs": [],
   "source": [
    "import imageio\n",
    "imageio.plugins.ffmpeg.download()\n",
    "from moviepy.editor import *\n",
    "# Generate new video clip\n",
    "new_clip = ImageSequenceClip(processed_frames, fps=fps)\n",
    "new_clip.write_videofile('processed_clip_car.mp4', fps=fps, codec='libx264')"
   ]
  }
 ],
 "metadata": {
  "kernelspec": {
   "display_name": "webapp3",
   "language": "python",
   "name": "webapp3"
  },
  "language_info": {
   "codemirror_mode": {
    "name": "ipython",
    "version": 3
   },
   "file_extension": ".py",
   "mimetype": "text/x-python",
   "name": "python",
   "nbconvert_exporter": "python",
   "pygments_lexer": "ipython3",
   "version": "3.6.3"
  }
 },
 "nbformat": 4,
 "nbformat_minor": 2
}
