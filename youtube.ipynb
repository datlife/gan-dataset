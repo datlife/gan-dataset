{
 "cells": [
  {
   "cell_type": "code",
   "execution_count": 1,
   "metadata": {
    "collapsed": true
   },
   "outputs": [],
   "source": [
    "import pandas as pd\n",
    "import numpy as np\n"
   ]
  },
  {
   "cell_type": "code",
   "execution_count": 2,
   "metadata": {
    "collapsed": true
   },
   "outputs": [],
   "source": [
    "PATH ='/media/dat/dataset/YOUTUBE_BB/youtube_boundingboxes_detection_validation.csv'"
   ]
  },
  {
   "cell_type": "code",
   "execution_count": 3,
   "metadata": {},
   "outputs": [
    {
     "name": "stdout",
     "output_type": "stream",
     "text": [
      "159\n"
     ]
    }
   ],
   "source": [
    "def get_video_ids(csv_path=None, category='car', min_area=0.1, max_area=0.3, threshold=0.6):\n",
    "    \"\"\"\n",
    "    Return a list of video ids that satisfies the condition as:\n",
    "    \n",
    "       * Contain at least one object of the specified category\n",
    "       * All the object's area compared to the video size should be:\n",
    "                * Less than the max_area and greater than min_area and\n",
    "                * Percentage of satisfied area > threshold\n",
    "    \n",
    "    # This only works for Youtube BBoxes \n",
    "    # https://research.google.com/youtube-bb/download.html    \n",
    "    \"\"\"\n",
    "    if csv_path==None: \n",
    "        raise IOError(\"Please specify path to Youtube bounding box file\")\n",
    "     \n",
    "    df = pd.read_csv(csv_path,names=['youtube_id','timestamp','class_id','class_name',\n",
    "                                     'object_id','object_presense',\n",
    "                                     'xmin','xmax','ymin','ymax'])\n",
    "    \n",
    "    df = df[df['class_name'] == category]\n",
    "    grouped = df.groupby('youtube_id')\n",
    "           \n",
    "    # Only get videos that have object are bigger than 30% of the frame\n",
    "    def filter_obj(group, min_area=0.05, max_area=0.30, threshold=0.6):\n",
    "        area = (group['xmax'] - group['xmin'])*(group['ymax'] - group['ymin'])\n",
    "        area = (area > min_area) & (area  < max_area)\n",
    "        if area.any() is False:\n",
    "            return False\n",
    "        else:    \n",
    "            small_areas = area[area==True]\n",
    "            is_good = (len(small_areas)/(1.0*len(area))) >= threshold\n",
    "            return is_good\n",
    "    \n",
    "    # Filter grouped\n",
    "    grouped = grouped.filter(lambda x: filter_obj(x, \n",
    "                                                  min_area=min_area, \n",
    "                                                  max_area=max_area, \n",
    "                                                  threshold=threshold)).groupby('youtube_id')\n",
    "   \n",
    "    return grouped\n",
    "\n",
    "grouped = get_video_ids(PATH, category='car', min_area=0.1, max_area=0.5, threshold=0.7)\n",
    "print(len(grouped))"
   ]
  },
  {
   "cell_type": "code",
   "execution_count": null,
   "metadata": {},
   "outputs": [],
   "source": [
    "from IPython.display import YouTubeVideo\n",
    "\n",
    "idx = np.random.randint(0, len(grouped.groups))\n",
    "saved_id = list(grouped.groups.keys())[idx]\n",
    "YouTubeVideo(list(grouped.groups.keys())[idx])"
   ]
  },
  {
   "cell_type": "code",
   "execution_count": null,
   "metadata": {},
   "outputs": [],
   "source": [
    "print(grouped.groups)"
   ]
  },
  {
   "cell_type": "code",
   "execution_count": null,
   "metadata": {},
   "outputs": [],
   "source": [
    "# Good id jDGrgBt83DU\n",
    "YouTubeVideo('jDGrgBt83DU')"
   ]
  },
  {
   "cell_type": "code",
   "execution_count": null,
   "metadata": {
    "collapsed": true
   },
   "outputs": [],
   "source": []
  }
 ],
 "metadata": {
  "kernelspec": {
   "display_name": "webapp3",
   "language": "python",
   "name": "webapp3"
  },
  "language_info": {
   "codemirror_mode": {
    "name": "ipython",
    "version": 3
   },
   "file_extension": ".py",
   "mimetype": "text/x-python",
   "name": "python",
   "nbconvert_exporter": "python",
   "pygments_lexer": "ipython3",
   "version": "3.6.3"
  }
 },
 "nbformat": 4,
 "nbformat_minor": 2
}
