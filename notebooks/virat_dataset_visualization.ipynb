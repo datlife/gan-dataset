{
 "cells": [
  {
   "cell_type": "markdown",
   "metadata": {},
   "source": [
    "# VIRAT DATASET - OBJECT VISUALIZATION\n",
    "\n",
    "Show numbers of object per object_id\n",
    "\n",
    "|Column| Type |Comment|\n",
    "|---|:------|:--------|\n",
    "|1| Object id|a unique identifier of an object track. Unique within a file.|\n",
    "|2| Object duration | duration of the object track|\n",
    "|3| Currnet frame|corresponding frame number|\n",
    "|4| bbox lefttop x|horizontal x coordinate of the left top of bbox, origin is lefttop of the frame|\n",
    "|5| bbox lefttop y|vertical y coordinate of the left top of bbox, origin is lefttop of the frame|\n",
    "|6| bbox width|horizontal width of the bbox|\n",
    "|7| bbox height|vertical height of the bbox|\n",
    "|8| Object Type|object type|\n",
    "\n",
    "Object Type ID (for column 8 above for object files)\n",
    "\n",
    "ID | Type|\n",
    "---|:----|\n",
    "1| person\n",
    "2| car              (usually passenger vehicles such as sedan, truck)\n",
    "3| vehicles         (vehicles other than usual passenger cars. Examples include construction vehicles)\n",
    "4| object           (neither car or person, usually carried objects)\n",
    "5| bike, bicylces   (may include engine-powered auto-bikes)"
   ]
  },
  {
   "cell_type": "code",
   "execution_count": 1,
   "metadata": {},
   "outputs": [],
   "source": [
    "object_anno_fields     = ['object_id', 'object_duration', \n",
    "                          'current_frame',\n",
    "                          'left_top_x','left_top_y', 'width', 'height', \n",
    "                          'object_type']\n",
    "\n",
    "DEFAULT_VIRAT_DIR      = '/media/dat/dataset/VIRAT'\n"
   ]
  },
  {
   "cell_type": "code",
   "execution_count": 2,
   "metadata": {},
   "outputs": [],
   "source": [
    "import os\n",
    "import numpy as np\n",
    "import pandas as pd\n",
    "import matplotlib.pyplot as plt\n",
    "%matplotlib inline"
   ]
  },
  {
   "cell_type": "code",
   "execution_count": 3,
   "metadata": {},
   "outputs": [
    {
     "name": "stdout",
     "output_type": "stream",
     "text": [
      "Number of data points: 9822777\n",
      "Number of annotated object: 11833\n"
     ]
    }
   ],
   "source": [
    "# Find all the object annotation files\n",
    "\n",
    "DEFAULT_ANNOTATION_DIR = os.path.join(DEFAULT_VIRAT_DIR, 'annotations')\n",
    "all_object_annotation_paths = []\n",
    "for root, dirs, files in os.walk(DEFAULT_ANNOTATION_DIR):\n",
    "    for f in files:\n",
    "        if f.endswith('.viratdata.objects.txt'):\n",
    "            fpath =  os.path.join(DEFAULT_ANNOTATION_DIR, f)\n",
    "            all_object_annotation_paths.append(fpath)\n",
    "            \n",
    "frames = []\n",
    "prev_idx = 0\n",
    "for idx, path in enumerate(all_object_annotation_paths):\n",
    "    annotation_file = pd.read_csv(path, delim_whitespace=True, names=object_anno_fields)\n",
    "    # Intentionally created new object id to count total number of annotated objects\n",
    "    annotation_file['object_id'] += idx\n",
    "    annotation_file['object_id'] += prev_idx\n",
    "    prev_idx = np.max(annotation_file['object_id'].values)    \n",
    "    frames.append(annotation_file)\n",
    "\n",
    "df = pd.concat(frames)\n",
    "\n",
    "print 'Number of data points: %s'%len(df)\n",
    "print 'Number of annotated object: %s'%df['object_id'].nunique()"
   ]
  },
  {
   "cell_type": "code",
   "execution_count": 4,
   "metadata": {},
   "outputs": [
    {
     "data": {
      "text/html": [
       "<div>\n",
       "<style scoped>\n",
       "    .dataframe tbody tr th:only-of-type {\n",
       "        vertical-align: middle;\n",
       "    }\n",
       "\n",
       "    .dataframe tbody tr th {\n",
       "        vertical-align: top;\n",
       "    }\n",
       "\n",
       "    .dataframe thead th {\n",
       "        text-align: right;\n",
       "    }\n",
       "</style>\n",
       "<table border=\"1\" class=\"dataframe\">\n",
       "  <thead>\n",
       "    <tr style=\"text-align: right;\">\n",
       "      <th></th>\n",
       "      <th>object_duration</th>\n",
       "      <th>current_frame</th>\n",
       "      <th>left_top_x</th>\n",
       "      <th>left_top_y</th>\n",
       "      <th>width</th>\n",
       "      <th>height</th>\n",
       "      <th>object_type</th>\n",
       "    </tr>\n",
       "    <tr>\n",
       "      <th>object_id</th>\n",
       "      <th></th>\n",
       "      <th></th>\n",
       "      <th></th>\n",
       "      <th></th>\n",
       "      <th></th>\n",
       "      <th></th>\n",
       "      <th></th>\n",
       "    </tr>\n",
       "  </thead>\n",
       "  <tbody>\n",
       "    <tr>\n",
       "      <th>0</th>\n",
       "      <td>322</td>\n",
       "      <td>1200</td>\n",
       "      <td>1034</td>\n",
       "      <td>493</td>\n",
       "      <td>32</td>\n",
       "      <td>48</td>\n",
       "      <td>2</td>\n",
       "    </tr>\n",
       "    <tr>\n",
       "      <th>1</th>\n",
       "      <td>148</td>\n",
       "      <td>174</td>\n",
       "      <td>1850</td>\n",
       "      <td>248</td>\n",
       "      <td>18</td>\n",
       "      <td>29</td>\n",
       "      <td>2</td>\n",
       "    </tr>\n",
       "    <tr>\n",
       "      <th>2</th>\n",
       "      <td>163</td>\n",
       "      <td>159</td>\n",
       "      <td>1853</td>\n",
       "      <td>226</td>\n",
       "      <td>32</td>\n",
       "      <td>34</td>\n",
       "      <td>2</td>\n",
       "    </tr>\n",
       "    <tr>\n",
       "      <th>3</th>\n",
       "      <td>3166</td>\n",
       "      <td>0</td>\n",
       "      <td>0</td>\n",
       "      <td>472</td>\n",
       "      <td>37</td>\n",
       "      <td>45</td>\n",
       "      <td>2</td>\n",
       "    </tr>\n",
       "    <tr>\n",
       "      <th>4</th>\n",
       "      <td>3166</td>\n",
       "      <td>0</td>\n",
       "      <td>0</td>\n",
       "      <td>536</td>\n",
       "      <td>66</td>\n",
       "      <td>59</td>\n",
       "      <td>2</td>\n",
       "    </tr>\n",
       "    <tr>\n",
       "      <th>5</th>\n",
       "      <td>3166</td>\n",
       "      <td>0</td>\n",
       "      <td>29</td>\n",
       "      <td>525</td>\n",
       "      <td>101</td>\n",
       "      <td>64</td>\n",
       "      <td>2</td>\n",
       "    </tr>\n",
       "    <tr>\n",
       "      <th>6</th>\n",
       "      <td>1361</td>\n",
       "      <td>1482</td>\n",
       "      <td>0</td>\n",
       "      <td>466</td>\n",
       "      <td>21</td>\n",
       "      <td>64</td>\n",
       "      <td>2</td>\n",
       "    </tr>\n",
       "    <tr>\n",
       "      <th>7</th>\n",
       "      <td>730</td>\n",
       "      <td>492</td>\n",
       "      <td>0</td>\n",
       "      <td>496</td>\n",
       "      <td>18</td>\n",
       "      <td>67</td>\n",
       "      <td>1</td>\n",
       "    </tr>\n",
       "    <tr>\n",
       "      <th>8</th>\n",
       "      <td>922</td>\n",
       "      <td>1500</td>\n",
       "      <td>957</td>\n",
       "      <td>482</td>\n",
       "      <td>29</td>\n",
       "      <td>61</td>\n",
       "      <td>1</td>\n",
       "    </tr>\n",
       "    <tr>\n",
       "      <th>9</th>\n",
       "      <td>322</td>\n",
       "      <td>1800</td>\n",
       "      <td>1538</td>\n",
       "      <td>266</td>\n",
       "      <td>38</td>\n",
       "      <td>43</td>\n",
       "      <td>2</td>\n",
       "    </tr>\n",
       "  </tbody>\n",
       "</table>\n",
       "</div>"
      ],
      "text/plain": [
       "           object_duration  current_frame  left_top_x  left_top_y  width  \\\n",
       "object_id                                                                  \n",
       "0                      322           1200        1034         493     32   \n",
       "1                      148            174        1850         248     18   \n",
       "2                      163            159        1853         226     32   \n",
       "3                     3166              0           0         472     37   \n",
       "4                     3166              0           0         536     66   \n",
       "5                     3166              0          29         525    101   \n",
       "6                     1361           1482           0         466     21   \n",
       "7                      730            492           0         496     18   \n",
       "8                      922           1500         957         482     29   \n",
       "9                      322           1800        1538         266     38   \n",
       "\n",
       "           height  object_type  \n",
       "object_id                       \n",
       "0              48            2  \n",
       "1              29            2  \n",
       "2              34            2  \n",
       "3              45            2  \n",
       "4              59            2  \n",
       "5              64            2  \n",
       "6              64            2  \n",
       "7              67            1  \n",
       "8              61            1  \n",
       "9              43            2  "
      ]
     },
     "execution_count": 4,
     "metadata": {},
     "output_type": "execute_result"
    }
   ],
   "source": [
    "df1 = df.groupby('object_id').min()\n",
    "df1[0:10]"
   ]
  },
  {
   "cell_type": "code",
   "execution_count": 5,
   "metadata": {},
   "outputs": [
    {
     "data": {
      "text/plain": [
       "<matplotlib.axes._subplots.AxesSubplot at 0x7fa01b474250>"
      ]
     },
     "execution_count": 5,
     "metadata": {},
     "output_type": "execute_result"
    },
    {
     "data": {
      "image/png": "[encoded data removed]",
      "text/plain": [
       "<matplotlib.figure.Figure at 0x7fa01b45ad90>"
      ]
     },
     "metadata": {},
     "output_type": "display_data"
    }
   ],
   "source": [
    "# Plot numbers of object per category\n",
    "object_frequencies = df1['object_type'].value_counts(sort=False)\n",
    "object_frequencies.plot.bar(title='Numbers of object per category', x='Category')"
   ]
  },
  {
   "cell_type": "markdown",
   "metadata": {},
   "source": [
    "* Annotation file has noise or missing labels. In documentation, author only lists label for object_type from 1->5"
   ]
  },
  {
   "cell_type": "code",
   "execution_count": 6,
   "metadata": {},
   "outputs": [
    {
     "data": {
      "text/plain": [
       "<matplotlib.axes._subplots.AxesSubplot at 0x7fa019307c10>"
      ]
     },
     "execution_count": 6,
     "metadata": {},
     "output_type": "execute_result"
    },
    {
     "data": {
      "image/png": "[encoded data removed]",
      "text/plain": [
       "<matplotlib.figure.Figure at 0x7fa0192fd7d0>"
      ]
     },
     "metadata": {},
     "output_type": "display_data"
    }
   ],
   "source": [
    "df1.plot(kind='scatter', x='object_duration', y='object_duration')"
   ]
  },
  {
   "cell_type": "code",
   "execution_count": null,
   "metadata": {},
   "outputs": [],
   "source": []
  }
 ],
 "metadata": {
  "kernelspec": {
   "display_name": "webapp3",
   "language": "python",
   "name": "webapp3"
  },
  "language_info": {
   "codemirror_mode": {
    "name": "ipython",
    "version": 3
   },
   "file_extension": ".py",
   "mimetype": "text/x-python",
   "name": "python",
   "nbconvert_exporter": "python",
   "pygments_lexer": "ipython3",
   "version": "3.6.3"
  }
 },
 "nbformat": 4,
 "nbformat_minor": 2
}
